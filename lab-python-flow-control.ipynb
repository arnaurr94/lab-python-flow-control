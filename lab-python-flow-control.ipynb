{
 "cells": [
  {
   "cell_type": "markdown",
   "id": "d3bfc191-8885-42ee-b0a0-bbab867c6f9f",
   "metadata": {
    "tags": []
   },
   "source": [
    "# Lab | Flow Control"
   ]
  },
  {
   "cell_type": "markdown",
   "id": "3851fcd1-cf98-4653-9c89-e003b7ec9400",
   "metadata": {},
   "source": [
    "## Exercise: Managing Customer Orders Optimized\n",
    "\n",
    "In the last lab, you were starting an online store that sells various products. To ensure smooth operations, you developed a program that manages customer orders and inventory.\n",
    "\n",
    "You did so without using flow control. Let's go a step further and improve this code.\n",
    "\n",
    "Follow the steps below to complete the exercise:\n",
    "\n",
    "1. Look at your code from the lab data structures, and improve repeated code with loops.\n",
    "\n",
    "2. Instead of asking the user to input the name of three products that a customer wants to order, do the following:\n",
    "    \n",
    "    a. Prompt the user to enter the name of a product that a customer wants to order.\n",
    "    \n",
    "    b. Add the product name to the \"customer_orders\" set.\n",
    "    \n",
    "    c. Ask the user if they want to add another product (yes/no).\n",
    "    \n",
    "    d. Continue the loop until the user does not want to add another product.\n",
    "\n",
    "3. Instead of updating the inventory by subtracting 1 from the quantity of each product, only do it for  the products that were ordered (those in \"customer_orders\")."
   ]
  },
  {
   "cell_type": "code",
   "execution_count": null,
   "id": "3fe45d80",
   "metadata": {},
   "outputs": [
    {
     "name": "stdout",
     "output_type": "stream",
     "text": [
      "This is the inventory before customer purchase : {'t-shirt': 5, 'mug': 5, 'hat': 5, 'book': 5, 'keychain': 5}\n",
      "This is the inventory after customer purchase : {'t-shirt': 5, 'mug': 4, 'hat': 4, 'book': 4, 'keychain': 5}\n"
     ]
    }
   ],
   "source": [
    "# Define a list called `products` that contains the following items: \"t-shirt\", \"mug\", \"hat\", \"book\", \"keychain\".\n",
    "products = ['t-shirt', 'mug', 'hat', 'book', 'keychain']\n",
    "\n",
    "# Create an empty dictionary called `inventory`.\n",
    "inventory = {}\n",
    "\n",
    "# Ask the user to input the quantity of each product available in the inventory using loops. Use the product names \n",
    "# from the `products` list as keys in the `inventory` dictionary and assign the respective quantities as values.\n",
    "for product in products:\n",
    "    inventory[product] = int(input(f'How many {product}s are available: '))\n",
    "print(f'This is the inventory before customer purchase : {inventory}')\n",
    "\n",
    "# Create an empty set called `customer_orders`.\n",
    "customer_orders = set()\n",
    "\n",
    "# Prompt the user to enter the name of a product that a customer wants to order and add the product name to the\n",
    "# \"customer_orders\" set.\n",
    "answer = 'yes'\n",
    "while answer == 'yes':\n",
    "    customer_orders.add(input('Please say which of the following items you would like: t-shirt, mug, hat, book, keychain'))\n",
    "    answer = input('Would you like to add another product to your order? (yes/no)')\n",
    "    while answer != 'yes' and answer!= 'no':\n",
    "        print('That is an invalid input, please answer yes or no')\n",
    "        answer = input('Would you like to add another product to your order? (yes/no)')\n",
    "\n",
    "# Update the inventory by subtracting 1 from the products that were ordered (those in \"customer_orders\").\n",
    "for order in customer_orders:\n",
    "    inventory[order]-=1\n",
    "print(f'This is the inventory after customer purchase : {inventory}')"
   ]
  }
 ],
 "metadata": {
  "kernelspec": {
   "display_name": "base",
   "language": "python",
   "name": "python3"
  },
  "language_info": {
   "codemirror_mode": {
    "name": "ipython",
    "version": 3
   },
   "file_extension": ".py",
   "mimetype": "text/x-python",
   "name": "python",
   "nbconvert_exporter": "python",
   "pygments_lexer": "ipython3",
   "version": "3.13.5"
  }
 },
 "nbformat": 4,
 "nbformat_minor": 5
}
